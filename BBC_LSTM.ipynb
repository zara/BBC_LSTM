{
  "nbformat": 4,
  "nbformat_minor": 0,
  "metadata": {
    "colab": {
      "name": "BBC_LSTM.ipynb",
      "provenance": [],
      "collapsed_sections": []
    },
    "kernelspec": {
      "name": "python3",
      "display_name": "Python 3"
    },
    "accelerator": "GPU"
  },
  "cells": [
    {
      "cell_type": "code",
      "metadata": {
        "id": "9gJ6tCvZW6OF",
        "colab_type": "code",
        "colab": {}
      },
      "source": [
        "from google.colab import drive\n",
        "drive.mount('/content/drive')"
      ],
      "execution_count": 0,
      "outputs": []
    },
    {
      "cell_type": "code",
      "metadata": {
        "id": "bvrWORQi2WZ1",
        "colab_type": "code",
        "colab": {}
      },
      "source": [
        "pip install tensorflow==2.1.0"
      ],
      "execution_count": 0,
      "outputs": []
    },
    {
      "cell_type": "code",
      "metadata": {
        "id": "uuZPfym22qo0",
        "colab_type": "code",
        "colab": {}
      },
      "source": [
        "pip install tensorflow-gpu"
      ],
      "execution_count": 0,
      "outputs": []
    },
    {
      "cell_type": "code",
      "metadata": {
        "id": "MR15ZccnY_o7",
        "colab_type": "code",
        "outputId": "a3a68c04-a591-4bf0-899d-e814bb9c2a9e",
        "colab": {
          "base_uri": "https://localhost:8080/",
          "height": 51
        }
      },
      "source": [
        "import csv\n",
        "import tensorflow as tf\n",
        "import numpy as np\n",
        "from tensorflow.keras.preprocessing.text import Tokenizer\n",
        "from tensorflow.keras.preprocessing.sequence import pad_sequences\n",
        "from nltk.corpus import stopwords\n",
        "import nltk\n",
        "nltk.download('stopwords')\n",
        "STOPWORDS=set(stopwords.words('english'))"
      ],
      "execution_count": 0,
      "outputs": [
        {
          "output_type": "stream",
          "text": [
            "[nltk_data] Downloading package stopwords to /root/nltk_data...\n",
            "[nltk_data]   Unzipping corpora/stopwords.zip.\n"
          ],
          "name": "stdout"
        }
      ]
    },
    {
      "cell_type": "code",
      "metadata": {
        "id": "CrdmcAm3aDBO",
        "colab_type": "code",
        "outputId": "208c1bb1-7143-449f-a553-fdc8aab9271b",
        "colab": {
          "base_uri": "https://localhost:8080/",
          "height": 34
        }
      },
      "source": [
        "print(tf.__version__)"
      ],
      "execution_count": 0,
      "outputs": [
        {
          "output_type": "stream",
          "text": [
            "2.1.0\n"
          ],
          "name": "stdout"
        }
      ]
    },
    {
      "cell_type": "code",
      "metadata": {
        "id": "QQDE0uSX1r_7",
        "colab_type": "code",
        "colab": {}
      },
      "source": [
        "vocab_size=5000\n",
        "ebmedding_size=64\n",
        "max_length=200\n",
        "trunc_type='post'\n",
        "padding_type='post'\n",
        "oov_tok='<OOV>'\n",
        "training_portion=0.8\n",
        "\n",
        "articles=[]\n",
        "labels=[]\n"
      ],
      "execution_count": 0,
      "outputs": []
    },
    {
      "cell_type": "code",
      "metadata": {
        "id": "XINaGsCe4Hxz",
        "colab_type": "code",
        "colab": {}
      },
      "source": [
        "with open('/content/drive/My Drive/Machine_Learning/bbc-text.csv', 'r') as csv_file:\n",
        "    reader = csv.reader(csv_file, delimiter=',')\n",
        "    next(reader)\n",
        "    for row in reader:\n",
        "        labels.append(row[0])\n",
        "        article = row[1]\n",
        "        for word in STOPWORDS:\n",
        "            token = ' ' + word + ' '\n",
        "            article = article.replace(token, ' ')\n",
        "            article = article.replace(' ', ' ')\n",
        "        articles.append(article)\n"
      ],
      "execution_count": 0,
      "outputs": []
    },
    {
      "cell_type": "code",
      "metadata": {
        "id": "dTTirnMA4c7q",
        "colab_type": "code",
        "outputId": "bffbea57-4704-4159-a4ce-26c7d20570f7",
        "colab": {
          "base_uri": "https://localhost:8080/",
          "height": 54
        }
      },
      "source": [
        "train_size = int(len(articles) * training_portion)\n",
        "train_articles = articles[0: train_size]\n",
        "train_labels = labels[0: train_size]\n",
        "validation_articles = articles[train_size:]\n",
        "validation_labels = labels[train_size:]\n",
        "\n",
        "\n",
        "len(train_articles)\n",
        "tokenizer = Tokenizer(num_words=vocab_size, oov_token=oov_tok)\n",
        "tokenizer.fit_on_texts(train_articles)\n",
        "word_index = tokenizer.word_index\n",
        "dict(list(word_index.items())[0:10])\n",
        "\n",
        "train_sequences = tokenizer.texts_to_sequences(train_articles)\n",
        "print(train_sequences[1])\n"
      ],
      "execution_count": 0,
      "outputs": [
        {
          "output_type": "stream",
          "text": [
            "[1856, 558, 222, 1857, 1338, 119, 1856, 558, 1, 1626, 674, 1, 1, 1903, 1904, 750, 262, 24, 2563, 1263, 4291, 23, 4983, 336, 1, 24, 785, 4292, 846, 1782, 4107, 3, 1626, 1426, 1856, 350, 181, 45, 4502, 602, 2110, 572, 1820, 3155, 1236, 67, 270, 3, 1, 102, 3060, 1400, 750, 1, 2110, 457, 846, 1485, 1, 1, 1158, 2493, 3381, 1964, 821, 1, 408, 3, 1, 351, 1580, 3, 1626, 21, 2563, 192, 1531, 3, 1, 3523, 351, 177, 3, 1626, 21, 2563, 1965, 1856, 1857, 3, 1, 1, 3523, 4291, 3, 1, 758, 2794, 2014, 2563, 4503, 3785, 119, 1856, 116, 308, 1465, 1503, 1108, 846, 1782, 484, 1, 3, 1108, 758, 750, 1, 242, 542, 1, 365, 1856, 2563, 257, 679, 3, 1626, 139, 721, 321, 1, 1, 558, 1, 1, 1, 1486, 2015, 1, 3, 1626, 1, 1856, 1, 4725, 1, 1624, 639, 3786, 1, 561, 2167, 1856, 350, 1, 79, 514, 805, 1624, 2719, 1, 610, 67, 1627, 4502, 1127, 255, 1, 229, 31, 775, 255, 388, 3, 1626, 542, 94, 12, 15, 115, 199, 1400, 119, 1, 1197, 3524, 1941, 2494, 4726, 2358, 1]\n"
          ],
          "name": "stdout"
        }
      ]
    },
    {
      "cell_type": "code",
      "metadata": {
        "id": "dwuA4Pmg4nME",
        "colab_type": "code",
        "outputId": "dbe0e16c-a4bb-49c8-92bd-b9213cdd2e49",
        "colab": {
          "base_uri": "https://localhost:8080/",
          "height": 34
        }
      },
      "source": [
        "len(train_sequences)"
      ],
      "execution_count": 0,
      "outputs": [
        {
          "output_type": "execute_result",
          "data": {
            "text/plain": [
              "1780"
            ]
          },
          "metadata": {
            "tags": []
          },
          "execution_count": 14
        }
      ]
    },
    {
      "cell_type": "code",
      "metadata": {
        "id": "ERs6ji0t4niu",
        "colab_type": "code",
        "outputId": "b3fa6d47-b4be-4f7e-e8bb-b3ea230e9aba",
        "colab": {
          "base_uri": "https://localhost:8080/",
          "height": 340
        }
      },
      "source": [
        "train_padded = pad_sequences(train_sequences, maxlen=max_length, padding=padding_type, truncating=trunc_type)\n",
        "train_padded[0]"
      ],
      "execution_count": 0,
      "outputs": [
        {
          "output_type": "execute_result",
          "data": {
            "text/plain": [
              "array([  91,  160, 1141, 1106,   49,  979,  755,    1,   89, 1304, 4288,\n",
              "        129,  175, 3653, 1215, 1195, 1577,   42,    7,  893,   91,    1,\n",
              "        334,   85,   20,   14,  130, 3261, 1216, 2421,  569,  451, 1376,\n",
              "         58, 3378, 3521, 1661,    8,  921,  730,   10,  844,    1,    9,\n",
              "        598, 1578, 1107,  395, 1940, 1106,  731,   49,  537, 1398, 2011,\n",
              "       1624,  134,  249,  113, 2355,  795, 4980,  980,  584,   10, 3956,\n",
              "       3957,  921, 2562,  129,  344,  175, 3653,    1,    1,   39,   62,\n",
              "       2867,   28,    9, 4722,   18, 1305,  136,  416,    7,  143, 1423,\n",
              "         71, 4501,  436, 4981,   91, 1107,   77,    1,   82, 2012,   53,\n",
              "          1,   91,    6, 1008,  599,   89, 1304,   91, 1962,  131,  137,\n",
              "        420,    9, 2868,   38,  152, 1235,   89, 1304, 4723,    7,  436,\n",
              "       4981, 3153,    6, 2492,    1,  431, 1126,    1, 1424,  570, 1217,\n",
              "       1902,    1,  766,    9,  537, 1398, 2011,  134, 2069,  400,  845,\n",
              "       1963, 1601,   34, 1717, 2869,    1,    1, 2422,  244,    9, 2624,\n",
              "         82,  732,    6, 1173, 1196,  152,  720,  591,    1,  124,   28,\n",
              "       1305, 1690,  432,   83,  933,  115,   20,   14,   18, 3154,    1,\n",
              "         37, 1484,    1,   23,   37,   87,  335, 2356,   37,  467,  255,\n",
              "       1963, 1359,  328,    1,  299,  732, 1174,   18, 2870, 1717,    1,\n",
              "        294,  756], dtype=int32)"
            ]
          },
          "metadata": {
            "tags": []
          },
          "execution_count": 16
        }
      ]
    },
    {
      "cell_type": "code",
      "metadata": {
        "id": "VZcEZ2IF5Xjn",
        "colab_type": "code",
        "outputId": "27a9e30e-fabb-4f4d-bc0d-d84fb50ed954",
        "colab": {
          "base_uri": "https://localhost:8080/",
          "height": 34
        }
      },
      "source": [
        "validation_sequences = tokenizer.texts_to_sequences(validation_articles)\n",
        "validation_padded = pad_sequences(validation_sequences, maxlen=max_length, padding=padding_type, truncating=trunc_type)\n",
        "validation_padded.shape"
      ],
      "execution_count": 0,
      "outputs": [
        {
          "output_type": "execute_result",
          "data": {
            "text/plain": [
              "(445, 200)"
            ]
          },
          "metadata": {
            "tags": []
          },
          "execution_count": 18
        }
      ]
    },
    {
      "cell_type": "code",
      "metadata": {
        "id": "lx3hc_Pv5euQ",
        "colab_type": "code",
        "outputId": "aac0b9ea-c2ff-4784-dfa2-00c808bb1b43",
        "colab": {
          "base_uri": "https://localhost:8080/",
          "height": 34
        }
      },
      "source": [
        "label_tokenizer = Tokenizer()\n",
        "label_tokenizer.fit_on_texts(labels)\n",
        "training_label_seq = np.array(label_tokenizer.texts_to_sequences(train_labels))\n",
        "validation_label_seq = np.array(label_tokenizer.texts_to_sequences(validation_labels))\n",
        "validation_label_seq.shape"
      ],
      "execution_count": 0,
      "outputs": [
        {
          "output_type": "execute_result",
          "data": {
            "text/plain": [
              "(445, 1)"
            ]
          },
          "metadata": {
            "tags": []
          },
          "execution_count": 19
        }
      ]
    },
    {
      "cell_type": "code",
      "metadata": {
        "id": "UgcexD9x5qx-",
        "colab_type": "code",
        "colab": {}
      },
      "source": [
        "reverse_word_index = dict([(value, key) for (key, value) in word_index.items()])"
      ],
      "execution_count": 0,
      "outputs": []
    },
    {
      "cell_type": "code",
      "metadata": {
        "id": "rxl7LsXl5u_W",
        "colab_type": "code",
        "outputId": "fcf55b8f-8b19-4c5a-80f6-ecfd304e1b0a",
        "colab": {
          "base_uri": "https://localhost:8080/",
          "height": 54
        }
      },
      "source": [
        "def decode_article(text):\n",
        "    return ' '.join([reverse_word_index.get(i, '?') for i in text])\n",
        "print(decode_article(train_padded[10]))"
      ],
      "execution_count": 0,
      "outputs": [
        {
          "output_type": "stream",
          "text": [
            "berlin <OOV> anti nazi film german movie anti nazi <OOV> <OOV> drawn <OOV> <OOV> berlin film festival <OOV> <OOV> final days <OOV> final days member white rose movement <OOV> 21 arrested <OOV> brother hans <OOV> <OOV> <OOV> <OOV> <OOV> tyranny <OOV> <OOV> director marc <OOV> said feeling responsibility keep legacy <OOV> going must <OOV> keep ideas alive added film drew <OOV> <OOV> <OOV> <OOV> trial <OOV> <OOV> <OOV> east germany secret police discovery <OOV> behind film <OOV> worked closely <OOV> relatives including one <OOV> sisters ensure historical <OOV> film <OOV> members white rose <OOV> group first started <OOV> anti nazi <OOV> summer <OOV> arrested dropped <OOV> munich university calling day <OOV> <OOV> <OOV> regime film <OOV> six days <OOV> arrest intense trial saw <OOV> initially deny charges ended <OOV> appearance one three german films <OOV> top prize festival south african film version <OOV> <OOV> opera <OOV> shot <OOV> town <OOV> language also <OOV> berlin festival film entitled u <OOV> <OOV> <OOV> <OOV> <OOV> story set performed 40 strong music theatre <OOV> debut film performance film first south african feature 25 years second nominated golden bear award ? ? ? ? ? ? ? ? ? ? ? ? ? ?\n"
          ],
          "name": "stdout"
        }
      ]
    },
    {
      "cell_type": "code",
      "metadata": {
        "id": "a8UJFDhL54km",
        "colab_type": "code",
        "colab": {}
      },
      "source": [
        "model = tf.keras.Sequential([\n",
        "    tf.keras.layers.Embedding(vocab_size, ebmedding_size),\n",
        "    tf.keras.layers.Bidirectional(tf.keras.layers.LSTM(ebmedding_size)),\n",
        "    tf.keras.layers.Dense(ebmedding_size, activation='relu'),\n",
        "    tf.keras.layers.Dense(6, activation='softmax')\n",
        "])"
      ],
      "execution_count": 0,
      "outputs": []
    },
    {
      "cell_type": "code",
      "metadata": {
        "id": "e9cIysaZ58JN",
        "colab_type": "code",
        "outputId": "730c8158-0c6d-4a97-d728-7f818d03a956",
        "colab": {
          "base_uri": "https://localhost:8080/",
          "height": 289
        }
      },
      "source": [
        "model.summary()"
      ],
      "execution_count": 0,
      "outputs": [
        {
          "output_type": "stream",
          "text": [
            "Model: \"sequential\"\n",
            "_________________________________________________________________\n",
            "Layer (type)                 Output Shape              Param #   \n",
            "=================================================================\n",
            "embedding (Embedding)        (None, None, 64)          320000    \n",
            "_________________________________________________________________\n",
            "bidirectional (Bidirectional (None, 128)               66048     \n",
            "_________________________________________________________________\n",
            "dense (Dense)                (None, 64)                8256      \n",
            "_________________________________________________________________\n",
            "dense_1 (Dense)              (None, 6)                 390       \n",
            "=================================================================\n",
            "Total params: 394,694\n",
            "Trainable params: 394,694\n",
            "Non-trainable params: 0\n",
            "_________________________________________________________________\n"
          ],
          "name": "stdout"
        }
      ]
    },
    {
      "cell_type": "code",
      "metadata": {
        "id": "ud_mwr0H6GUy",
        "colab_type": "code",
        "outputId": "fb90eedf-96c1-4e4d-c249-bef76179a82d",
        "colab": {
          "base_uri": "https://localhost:8080/",
          "height": 34
        }
      },
      "source": [
        "set(labels)"
      ],
      "execution_count": 0,
      "outputs": [
        {
          "output_type": "execute_result",
          "data": {
            "text/plain": [
              "{'business', 'entertainment', 'politics', 'sport', 'tech'}"
            ]
          },
          "metadata": {
            "tags": []
          },
          "execution_count": 24
        }
      ]
    },
    {
      "cell_type": "code",
      "metadata": {
        "id": "SI8XYOyh6IRz",
        "colab_type": "code",
        "outputId": "f1e8fd95-a581-407c-e877-8ba20d7d9caf",
        "colab": {
          "base_uri": "https://localhost:8080/",
          "height": 374
        }
      },
      "source": [
        "model.compile(loss='sparse_categorical_crossentropy', optimizer='adam', metrics=['accuracy'])\n",
        "hist = model.fit(train_padded, training_label_seq, epochs=10, validation_data=(validation_padded, validation_label_seq), verbose=2)"
      ],
      "execution_count": 0,
      "outputs": [
        {
          "output_type": "stream",
          "text": [
            "Train on 1780 samples, validate on 445 samples\n",
            "Epoch 1/10\n",
            "1780/1780 - 4s - loss: 2.6789e-10 - accuracy: 1.0000 - val_loss: 0.3338 - val_accuracy: 0.9596\n",
            "Epoch 2/10\n",
            "1780/1780 - 1s - loss: 1.3394e-10 - accuracy: 1.0000 - val_loss: 0.3375 - val_accuracy: 0.9596\n",
            "Epoch 3/10\n",
            "1780/1780 - 1s - loss: 2.6789e-10 - accuracy: 1.0000 - val_loss: 0.3430 - val_accuracy: 0.9573\n",
            "Epoch 4/10\n",
            "1780/1780 - 1s - loss: 2.0091e-10 - accuracy: 1.0000 - val_loss: 0.3432 - val_accuracy: 0.9573\n",
            "Epoch 5/10\n",
            "1780/1780 - 1s - loss: 2.0091e-10 - accuracy: 1.0000 - val_loss: 0.3488 - val_accuracy: 0.9573\n",
            "Epoch 6/10\n",
            "1780/1780 - 1s - loss: 1.3394e-10 - accuracy: 1.0000 - val_loss: 0.3543 - val_accuracy: 0.9573\n",
            "Epoch 7/10\n",
            "1780/1780 - 1s - loss: 2.0091e-10 - accuracy: 1.0000 - val_loss: 0.3598 - val_accuracy: 0.9551\n",
            "Epoch 8/10\n",
            "1780/1780 - 1s - loss: 2.6789e-10 - accuracy: 1.0000 - val_loss: 0.3616 - val_accuracy: 0.9573\n",
            "Epoch 9/10\n",
            "1780/1780 - 1s - loss: 2.0091e-10 - accuracy: 1.0000 - val_loss: 0.3629 - val_accuracy: 0.9573\n",
            "Epoch 10/10\n",
            "1780/1780 - 1s - loss: 1.3394e-10 - accuracy: 1.0000 - val_loss: 0.3649 - val_accuracy: 0.9596\n"
          ],
          "name": "stdout"
        }
      ]
    },
    {
      "cell_type": "code",
      "metadata": {
        "id": "Y9dEhFtF6XAl",
        "colab_type": "code",
        "outputId": "54744748-a976-4268-8377-4b0d15b9d228",
        "colab": {
          "base_uri": "https://localhost:8080/",
          "height": 282
        }
      },
      "source": [
        "import matplotlib.pyplot as plt\n",
        "plt.plot(hist.history['accuracy'])\n",
        "plt.plot(hist.history['val_accuracy'])"
      ],
      "execution_count": 0,
      "outputs": [
        {
          "output_type": "execute_result",
          "data": {
            "text/plain": [
              "[<matplotlib.lines.Line2D at 0x7f70ecc5ae48>]"
            ]
          },
          "metadata": {
            "tags": []
          },
          "execution_count": 35
        },
        {
          "output_type": "display_data",
          "data": {
            "image/png": "[encoded data removed]",
            "text/plain": [
              "<Figure size 432x288 with 1 Axes>"
            ]
          },
          "metadata": {
            "tags": []
          }
        }
      ]
    }
  ]
}